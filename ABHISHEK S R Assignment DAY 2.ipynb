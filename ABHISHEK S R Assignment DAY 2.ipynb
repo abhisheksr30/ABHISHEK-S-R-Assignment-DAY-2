{
 "cells": [
  {
   "cell_type": "markdown",
   "metadata": {},
   "source": [
    "# Assignment Day 2 Solution"
   ]
  },
  {
   "cell_type": "raw",
   "metadata": {},
   "source": [
    "Data Science 101 Course\n",
    "Name- ABHISHEK S R\n",
    "Mail Id - abhisheksr30@gmail.com"
   ]
  },
  {
   "cell_type": "markdown",
   "metadata": {},
   "source": [
    "# Questions 1:"
   ]
  },
  {
   "cell_type": "raw",
   "metadata": {},
   "source": [
    "Create an empty list. Accept 10 numbers from the user and append to it the list if it is an even number."
   ]
  },
  {
   "cell_type": "code",
   "execution_count": 2,
   "metadata": {},
   "outputs": [
    {
     "name": "stdout",
     "output_type": "stream",
     "text": [
      "Enter elements:11\n",
      "Enter elements:12\n",
      "Enter elements:13\n",
      "Enter elements:14\n",
      "Enter elements:15\n",
      "Enter elements:16\n",
      "Enter elements:17\n",
      "Enter elements:18\n",
      "Enter elements:19\n",
      "Enter elements:20\n",
      "The even number list [12, 14, 16, 18, 20]\n"
     ]
    }
   ],
   "source": [
    "a=[]\n",
    "for i in range(10):\n",
    "    b=int(input(\"Enter elements:\"))\n",
    "    a.append(b)\n",
    "even=[]\n",
    "odd=[]\n",
    "for j in a:\n",
    "    if(j%2==0):\n",
    "        even.append(j)\n",
    "    else:\n",
    "        odd.append(j)\n",
    "print(\"The even number list\",even)"
   ]
  },
  {
   "cell_type": "markdown",
   "metadata": {},
   "source": [
    "# Question 2"
   ]
  },
  {
   "cell_type": "markdown",
   "metadata": {},
   "source": [
    "Create a notebook on LIST COMPREHENSION. This exercise is to put you in a Self learning mode"
   ]
  },
  {
   "cell_type": "markdown",
   "metadata": {},
   "source": [
    "# List Comprehension vs For Loop in Python\n",
    "Suppose, we want to separate the letters of the word human and add the letters as items of a list. The first thing that comes in mind would be using for loop."
   ]
  },
  {
   "cell_type": "markdown",
   "metadata": {},
   "source": [
    "# For loop: \n",
    "\n",
    "We will see the difference between for loop and list comprehension.\n",
    "\n",
    "Iterating through a string Using for Loop"
   ]
  },
  {
   "cell_type": "code",
   "execution_count": 3,
   "metadata": {},
   "outputs": [
    {
     "name": "stdout",
     "output_type": "stream",
     "text": [
      "['h', 'u', 'm', 'a', 'n']\n"
     ]
    }
   ],
   "source": [
    "h_letters = []\n",
    "\n",
    "for letter in 'human':\n",
    "    h_letters.append(letter)\n",
    "\n",
    "print(h_letters)"
   ]
  },
  {
   "cell_type": "markdown",
   "metadata": {},
   "source": [
    "# List Comprehension."
   ]
  },
  {
   "cell_type": "raw",
   "metadata": {},
   "source": [
    "List comprehension is an elegant way to define and create lists based on existing lists.\n",
    "\n",
    "Let’s see how the above program can be written using list comprehensions."
   ]
  },
  {
   "cell_type": "code",
   "execution_count": 4,
   "metadata": {},
   "outputs": [
    {
     "name": "stdout",
     "output_type": "stream",
     "text": [
      "['h', 'u', 'm', 'a', 'n']\n"
     ]
    }
   ],
   "source": [
    "h_letters = [ letter for letter in 'human' ]\n",
    "print( h_letters)"
   ]
  },
  {
   "cell_type": "markdown",
   "metadata": {},
   "source": [
    "# Conditional in List Comprehension"
   ]
  },
  {
   "cell_type": "raw",
   "metadata": {},
   "source": [
    "List comprehensions can utilize conditional statement to modify existing list (or other tuples).\n",
    "We will create list that uses mathematical operators, integers, and range()"
   ]
  },
  {
   "cell_type": "code",
   "execution_count": 5,
   "metadata": {},
   "outputs": [
    {
     "name": "stdout",
     "output_type": "stream",
     "text": [
      "[0, 2, 4, 6, 8, 10, 12, 14, 16, 18]\n"
     ]
    }
   ],
   "source": [
    "#if with List Comprehension\n",
    "number_list = [ x for x in range(20) if x % 2 == 0]\n",
    "print(number_list)"
   ]
  },
  {
   "cell_type": "code",
   "execution_count": 6,
   "metadata": {},
   "outputs": [
    {
     "name": "stdout",
     "output_type": "stream",
     "text": [
      "[0, 10, 20, 30, 40, 50, 60, 70, 80, 90]\n"
     ]
    }
   ],
   "source": [
    "# Nested IF with List Comprehension\n",
    "num_list = [y for y in range(100) if y % 2 == 0 if y % 5 == 0]\n",
    "print(num_list)"
   ]
  },
  {
   "cell_type": "code",
   "execution_count": 7,
   "metadata": {},
   "outputs": [
    {
     "name": "stdout",
     "output_type": "stream",
     "text": [
      "['Even', 'Odd', 'Even', 'Odd', 'Even', 'Odd', 'Even', 'Odd', 'Even', 'Odd']\n"
     ]
    }
   ],
   "source": [
    "# if...else With List Comprehension\n",
    "obj = [\"Even\" if i%2==0 else \"Odd\" for i in range(10)]\n",
    "print(obj)"
   ]
  },
  {
   "cell_type": "markdown",
   "metadata": {},
   "source": [
    "# Questions 3:"
   ]
  },
  {
   "cell_type": "raw",
   "metadata": {},
   "source": [
    "You have seen in the videos how powerful dictionary data structure is.\n",
    "In this assignment, given a number n, you have to write a program that generates a dictionary d which contains (i, i*i), where i is from 1 to n (both included).\n",
    "Then you have to just print this dictionary d.\n",
    "Example: Input: 4 will give output as {1: 1, 2: 4, 3: 9, 4: 16}\n",
    "Input Format: Take the number n in a single line.\n",
    "Output Format: Print the dictionary d in a single line."
   ]
  },
  {
   "cell_type": "code",
   "execution_count": 8,
   "metadata": {},
   "outputs": [
    {
     "name": "stdout",
     "output_type": "stream",
     "text": [
      " 4\n",
      "{1: 1, 2: 4, 3: 9, 4: 16}\n"
     ]
    }
   ],
   "source": [
    "n = int(input(\" \"))\n",
    "d = {i:i*i for i in range(1,n+1)}\n",
    "print(d)"
   ]
  },
  {
   "cell_type": "markdown",
   "metadata": {},
   "source": [
    "# Questions 4:"
   ]
  },
  {
   "cell_type": "code",
   "execution_count": 9,
   "metadata": {},
   "outputs": [
    {
     "name": "stdout",
     "output_type": "stream",
     "text": [
      "UP 5\n",
      "DOWN 3\n",
      "LEFT 3\n",
      "RIGHT 2\n",
      "Rounded distance from zero position: 2\n"
     ]
    }
   ],
   "source": [
    "#Answer\n",
    "pos=0\n",
    "moves={\"UP\":1j,\n",
    "       \"DOWN\":-1j,\n",
    "       \"LEFT\":-1,\n",
    "       \"RIGHT\":1}\n",
    "\n",
    "#Set inputs\n",
    "data=[\"UP 5\",\n",
    "    \"DOWN 3\",\n",
    "    \"LEFT 3\",\n",
    "    \"RIGHT 2\"]\n",
    "\n",
    "#Move robot on valid moves\n",
    "for inp in data:\n",
    "    parts=inp.split()    \n",
    "    mv=parts[0]\n",
    "    val=parts[1]\n",
    "    print (mv, val)\n",
    "    pos += moves[mv]*int(val)\n",
    "\n",
    "#get distance     \n",
    "print('Rounded distance from zero position:', round(abs(pos)))"
   ]
  },
  {
   "cell_type": "code",
   "execution_count": null,
   "metadata": {},
   "outputs": [],
   "source": []
  }
 ],
 "metadata": {
  "kernelspec": {
   "display_name": "Python 3",
   "language": "python",
   "name": "python3"
  },
  "language_info": {
   "codemirror_mode": {
    "name": "ipython",
    "version": 3
   },
   "file_extension": ".py",
   "mimetype": "text/x-python",
   "name": "python",
   "nbconvert_exporter": "python",
   "pygments_lexer": "ipython3",
   "version": "3.8.3"
  }
 },
 "nbformat": 4,
 "nbformat_minor": 4
}
